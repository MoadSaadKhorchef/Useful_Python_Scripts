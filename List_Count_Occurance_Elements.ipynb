{
 "cells": [
  {
   "cell_type": "code",
   "execution_count": 1,
   "metadata": {},
   "outputs": [
    {
     "name": "stdout",
     "output_type": "stream",
     "text": [
      "element count using dictionary {3: 4, 7: 2, 8: 1, 9: 1, 6: 1, 10: 2, 17: 1}\n",
      "The Occurrence of 3 in the sample list is: 4\n",
      "The Occurrence of 7 in the sample list is: 2\n",
      "The Occurrence of 8 in the sample list is: 1\n",
      "The Occurrence of 9 in the sample list is: 1\n",
      "The Occurrence of 6 in the sample list is: 1\n",
      "The Occurrence of 10 in the sample list is: 2\n",
      "The Occurrence of 17 in the sample list is: 1\n"
     ]
    }
   ],
   "source": [
    "# sample list\n",
    "sample_list = [3,7,8,9,3,6,7,3,10,17,10,3]\n",
    "\n",
    "    # define empty dictionary\n",
    "    occurrences = {}\n",
    "\n",
    "    # Checking the element from sample list present as key in dictionary\n",
    "    # if yes than increment by 1 or create new key with value 1\n",
    "    for i in sample_list:\n",
    "        if i in occurrences:\n",
    "            occurrences[i] += 1\n",
    "        else:\n",
    "            occurrences[i] = 1\n",
    "\n",
    "# Printing dictionary\n",
    "print(\"element count using dictionary\",occurrences)\n",
    "\n",
    "# Printing all element with its count of Occurrence\n",
    "for key,value in occurrences.items():\n",
    "    print(\"The Occurrence of {0} in the sample list is: {1}\".format(key, value))"
   ]
  },
  {
   "cell_type": "code",
   "execution_count": 7,
   "metadata": {},
   "outputs": [
    {
     "data": {
      "text/plain": [
       "{8: 1, 9: 1, 6: 1, 17: 1, 7: 2, 10: 2, 3: 4}"
      ]
     },
     "execution_count": 7,
     "metadata": {},
     "output_type": "execute_result"
    }
   ],
   "source": [
    "sortedOccurrences = {k: v for k, v in sorted(occurrences.items(), key=lambda item: item[1])}\n",
    "sortedOccurrences"
   ]
  },
  {
   "cell_type": "code",
   "execution_count": 8,
   "metadata": {},
   "outputs": [
    {
     "data": {
      "text/plain": [
       "8"
      ]
     },
     "execution_count": 8,
     "metadata": {},
     "output_type": "execute_result"
    }
   ],
   "source": [
    "res = list(sortedOccurrences.keys())[0]\n",
    "res"
   ]
  },
  {
   "cell_type": "code",
   "execution_count": 14,
   "metadata": {},
   "outputs": [],
   "source": [
    "def lonelyinteger(arr):\n",
    "    # Write your code here\n",
    "\n",
    "    # define empty dictionary\n",
    "    occurrences = {}\n",
    "\n",
    "    # Checking the element from sample list present as key in dictionary\n",
    "    # if yes than increment by 1 or create new key with value 1\n",
    "    for i in arr:\n",
    "        if i in occurrences:\n",
    "            occurrences[i] += 1\n",
    "        else:\n",
    "            occurrences[i] = 1\n",
    "            \n",
    "    sortedOccurrences = {k: v for k, v in sorted(occurrences.items(), key=lambda item: item[1])}\n",
    "    \n",
    "    res = list(sortedOccurrences.keys())[0]\n",
    "    return(res)\n"
   ]
  },
  {
   "cell_type": "code",
   "execution_count": 15,
   "metadata": {},
   "outputs": [
    {
     "name": "stdout",
     "output_type": "stream",
     "text": [
      "4\n"
     ]
    }
   ],
   "source": [
    "a = [1,2,3,4,3,2,1]\n",
    "res = lonelyinteger(a)\n",
    "print(res)"
   ]
  },
  {
   "cell_type": "code",
   "execution_count": null,
   "metadata": {},
   "outputs": [],
   "source": []
  }
 ],
 "metadata": {
  "kernelspec": {
   "display_name": "Python 3",
   "language": "python",
   "name": "python3"
  },
  "language_info": {
   "codemirror_mode": {
    "name": "ipython",
    "version": 3
   },
   "file_extension": ".py",
   "mimetype": "text/x-python",
   "name": "python",
   "nbconvert_exporter": "python",
   "pygments_lexer": "ipython3",
   "version": "3.8.5"
  }
 },
 "nbformat": 4,
 "nbformat_minor": 4
}
