{
 "cells": [
  {
   "cell_type": "code",
   "execution_count": 5,
   "metadata": {},
   "outputs": [
    {
     "name": "stdout",
     "output_type": "stream",
     "text": [
      "6\n",
      "3\n",
      "2\n"
     ]
    }
   ],
   "source": [
    "an_array = [[1, 2 ,3], [3, 4 ,3]]\n",
    "\n",
    "rows = len(an_array)\n",
    "#Find row and column length\n",
    "\n",
    "columns = len(an_array[0])\n",
    "rows = len(an_array)\n",
    "\n",
    "\n",
    "total_length = rows * columns\n",
    "#Compute total length\n",
    "\n",
    "print(total_length)\n",
    "print(columns)\n",
    "print(rows)\n",
    "#print(an_array.shape)"
   ]
  },
  {
   "cell_type": "code",
   "execution_count": 2,
   "metadata": {},
   "outputs": [
    {
     "name": "stdout",
     "output_type": "stream",
     "text": [
      "Rows : 2\n",
      "Columns : 3\n"
     ]
    }
   ],
   "source": [
    "lista = [[1,2,3],[4,5,6]]\n",
    "arow = len(lista)\n",
    "acol = len(lista[0])\n",
    "print(\"Rows : \" + str(arow))\n",
    "print(\"Columns : \" + str(acol))"
   ]
  },
  {
   "cell_type": "code",
   "execution_count": 2,
   "metadata": {},
   "outputs": [
    {
     "name": "stdout",
     "output_type": "stream",
     "text": [
      "0 [1, 2, 3]\n",
      "1 [3, 4, 3]\n"
     ]
    }
   ],
   "source": [
    "ints = [[1, 2 ,3], [3, 4 ,3]]\n",
    "\n",
    "for idx, val in enumerate(ints):\n",
    "    print(idx, val)"
   ]
  },
  {
   "cell_type": "code",
   "execution_count": 1,
   "metadata": {},
   "outputs": [
    {
     "name": "stdout",
     "output_type": "stream",
     "text": [
      "1\n",
      "2\n",
      "3\n",
      "4\n",
      "5\n",
      "6\n"
     ]
    }
   ],
   "source": [
    "import numpy as np\n",
    "\n",
    "arr = np.array([[1, 2, 3], [4, 5, 6]])\n",
    "\n",
    "for x in arr:\n",
    "    for y in x:\n",
    "        print(y)"
   ]
  },
  {
   "cell_type": "code",
   "execution_count": 3,
   "metadata": {},
   "outputs": [
    {
     "name": "stdout",
     "output_type": "stream",
     "text": [
      "1 2 3 4 \n",
      "5 6 \n",
      "7 8 9 \n"
     ]
    }
   ],
   "source": [
    "a = [[1, 2, 3, 4], [5, 6], [7, 8, 9]]\n",
    "\n",
    "for row in a:\n",
    "    for elem in row:\n",
    "        print(elem, end=' ')\n",
    "    print()"
   ]
  },
  {
   "cell_type": "code",
   "execution_count": 5,
   "metadata": {},
   "outputs": [
    {
     "name": "stdout",
     "output_type": "stream",
     "text": [
      "1 2 3 4 \n",
      "5 6 9 0 \n",
      "7 8 9 7 \n"
     ]
    }
   ],
   "source": [
    "a = [[1, 2, 3, 4], [5, 6, 9, 0], [7, 8, 9, 7]]\n",
    "\n",
    "for i in range(len(a)):\n",
    "    for j in range(len(a[i])):\n",
    "        print(a[i][j], end=' ')\n",
    "    print()"
   ]
  },
  {
   "cell_type": "code",
   "execution_count": 13,
   "metadata": {},
   "outputs": [
    {
     "data": {
      "text/plain": [
       "3"
      ]
     },
     "execution_count": 13,
     "metadata": {},
     "output_type": "execute_result"
    }
   ],
   "source": [
    "len(a)"
   ]
  },
  {
   "cell_type": "code",
   "execution_count": 6,
   "metadata": {},
   "outputs": [
    {
     "data": {
      "text/plain": [
       "range(0, 3)"
      ]
     },
     "execution_count": 6,
     "metadata": {},
     "output_type": "execute_result"
    }
   ],
   "source": [
    "range(len(a))"
   ]
  },
  {
   "cell_type": "code",
   "execution_count": 100,
   "metadata": {},
   "outputs": [
    {
     "name": "stdout",
     "output_type": "stream",
     "text": [
      "4 5 6 l\n",
      "1 7 4 l\n",
      "7 1 3 l\n"
     ]
    }
   ],
   "source": [
    "board = [[1, 2, 3, 4,5,6], [5, 6, 9, 1,7,4], [7, 8, 9, 7,1,3]]\n",
    "\n",
    "\n",
    "for i in range(0,3):\n",
    "    \n",
    "    for j in range(3,6):\n",
    "        print(board[i][j], end=' ')\n",
    "    print('l')"
   ]
  },
  {
   "cell_type": "code",
   "execution_count": 101,
   "metadata": {},
   "outputs": [
    {
     "name": "stdout",
     "output_type": "stream",
     "text": [
      "1 2 3 l\n",
      "5 6 9 l\n",
      "7 8 9 l\n",
      "4 5 6 l\n",
      "1 7 4 l\n",
      "7 1 3 l\n"
     ]
    }
   ],
   "source": [
    "i = 0\n",
    "j = 0\n",
    "bl=0\n",
    "a=0\n",
    "b=3\n",
    "c=0\n",
    "d=3\n",
    "\n",
    "while bl < 2:\n",
    "    \n",
    "    bl=bl+1\n",
    "\n",
    "    #print(bl) \n",
    "    #print(0%3)\n",
    "    if bl%3 == 0:\n",
    "        a = a+3\n",
    "        b = b+3\n",
    "        c = 0\n",
    "        d = 3\n",
    "\n",
    "    #print(' ') \n",
    "      \n",
    "        \n",
    "    for i in range(a,b):\n",
    "        #print(i)\n",
    "        for j in range(c,d):\n",
    "            #print(i)\n",
    "            #print(j)\n",
    "            print(board[i][j], end=' ')\n",
    "        print('l')        \n",
    "    c = c+3\n",
    "    d = d+3"
   ]
  },
  {
   "cell_type": "code",
   "execution_count": 104,
   "metadata": {},
   "outputs": [
    {
     "name": "stdout",
     "output_type": "stream",
     "text": [
      "0 0\n",
      "0 1\n",
      "0 2\n",
      "1 0\n",
      "1 1\n",
      "1 2\n",
      "2 0\n",
      "2 1\n",
      "2 2\n",
      " l\n",
      "0 3\n",
      "0 4\n",
      "0 5\n",
      "1 3\n",
      "1 4\n",
      "1 5\n",
      "2 3\n",
      "2 4\n",
      "2 5\n",
      " l\n"
     ]
    }
   ],
   "source": [
    "i = 0\n",
    "j = 0\n",
    "bl=0\n",
    "a=0\n",
    "b=3\n",
    "c=0\n",
    "d=3\n",
    "\n",
    "while bl < 2:\n",
    "    tmpBlock=[]\n",
    "\n",
    "    bl=bl+1\n",
    "    if bl%3 == 0:\n",
    "        a = a+3\n",
    "        b = b+3\n",
    "        c = 0\n",
    "        d = 3\n",
    "\n",
    "    for i in range(a,b):\n",
    "        for j in range(c,d):\n",
    "            print(i,j)\n",
    "            tmpBlock.append(board[i][j])\n",
    "\n",
    "    contains_duplicates = any(tmpBlock.count(element) > 1 for element in tmpBlock)\n",
    "    if 0 in  tmpBlock:\n",
    "        print(' o')\n",
    "    elif contains_duplicates == True:\n",
    "        print(' l')           \n",
    "\n",
    "    c = c+3\n",
    "    d = d+3"
   ]
  },
  {
   "cell_type": "code",
   "execution_count": null,
   "metadata": {},
   "outputs": [],
   "source": []
  }
 ],
 "metadata": {
  "kernelspec": {
   "display_name": "Python 3",
   "language": "python",
   "name": "python3"
  },
  "language_info": {
   "codemirror_mode": {
    "name": "ipython",
    "version": 3
   },
   "file_extension": ".py",
   "mimetype": "text/x-python",
   "name": "python",
   "nbconvert_exporter": "python",
   "pygments_lexer": "ipython3",
   "version": "3.8.5"
  }
 },
 "nbformat": 4,
 "nbformat_minor": 4
}
