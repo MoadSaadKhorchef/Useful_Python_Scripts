{
 "cells": [
  {
   "cell_type": "code",
   "execution_count": 43,
   "metadata": {},
   "outputs": [],
   "source": [
    "import numpy\n",
    "\n",
    "def valid_solution(board):\n",
    "\n",
    "    for idx, val in enumerate(board) :\n",
    "        contains_duplicates = any(val.count(element) > 1 for element in val)\n",
    "        if 0 in val:\n",
    "            return False\n",
    "        elif contains_duplicates == True:\n",
    "            return False\n",
    "\n",
    "    boardT = numpy.array(board).T.tolist()\n",
    "\n",
    "    for idx, val in enumerate(boardT) :\n",
    "        contains_duplicates = any(val.count(element) > 1 for element in val)\n",
    "        if 0 in val:\n",
    "            return False\n",
    "        elif contains_duplicates == True:\n",
    "            return False\n",
    "\n",
    "    i = 0\n",
    "    j = 0\n",
    "    bl=0\n",
    "    a=0\n",
    "    b=3\n",
    "    c=0\n",
    "    d=3\n",
    "\n",
    "    while bl < 9:\n",
    "        \n",
    "        tmpBlock=[]\n",
    "\n",
    "        if bl%3 == 0 and bl != 0 :\n",
    "            a = a+3\n",
    "            b = b+3\n",
    "            c = 0\n",
    "            d = 3\n",
    "\n",
    "        bl=bl+1\n",
    "        #print(bl)\n",
    "\n",
    "        for i in range(a,b):\n",
    "            for j in range(c,d):\n",
    "                #print(i,j)\n",
    "                tmpBlock.append(board[i][j])            \n",
    "\n",
    "        contains_duplicates = any(tmpBlock.count(element) > 1 for element in tmpBlock)\n",
    "\n",
    "        if 0 in tmpBlock:\n",
    "            return False\n",
    "        elif contains_duplicates == True:\n",
    "            return False            \n",
    "\n",
    "        c = c+3\n",
    "        d = d+3\n",
    "    return True\n",
    "\n",
    "\n",
    "## Challenge 1\n",
    "## Validate rows\n",
    "def test_valid():\n",
    "    assert valid_solution([[5, 3, 4, 6, 7, 8, 9, 1, 2], \n",
    "                           [6, 7, 2, 1, 9, 5, 3, 4, 8],\n",
    "                           [1, 9, 8, 3, 4, 2, 5, 6, 7],\n",
    "                           [8, 5, 9, 7, 6, 1, 4, 2, 3],\n",
    "                           [4, 2, 6, 8, 5, 3, 7, 9, 1],\n",
    "                           [7, 1, 3, 9, 2, 4, 8, 5, 6],\n",
    "                           [9, 6, 1, 5, 3, 7, 2, 8, 4],\n",
    "                           [2, 8, 7, 4, 1, 9, 6, 3, 5],\n",
    "                           [3, 4, 5, 2, 8, 6, 1, 7, 9]]) == True\n",
    "\n",
    "def test_invalid_rows():\n",
    "    assert valid_solution([[5, 3, 4, 6, 7, 8, 9, 1, 2], \n",
    "                           [6, 7, 2, 1, 9, 0, 3, 4, 9],\n",
    "                           [1, 0, 0, 3, 4, 2, 5, 6, 0],\n",
    "                           [8, 5, 9, 7, 6, 1, 0, 2, 0],\n",
    "                           [4, 2, 6, 8, 5, 3, 7, 9, 1],\n",
    "                           [7, 1, 3, 9, 2, 4, 8, 5, 6],\n",
    "                           [9, 0, 1, 5, 3, 7, 2, 1, 4],\n",
    "                           [2, 8, 7, 4, 1, 9, 6, 3, 5],\n",
    "                           [3, 0, 0, 4, 8, 1, 1, 7, 9]]) == False"
   ]
  },
  {
   "cell_type": "code",
   "execution_count": 44,
   "metadata": {},
   "outputs": [],
   "source": [
    "assert valid_solution([[5, 3, 4, 6, 7, 8, 9, 1, 2], \n",
    "                           [6, 7, 2, 1, 9, 5, 3, 4, 8],\n",
    "                           [1, 9, 8, 3, 4, 2, 5, 6, 7],\n",
    "                           [8, 5, 9, 7, 6, 1, 4, 2, 3],\n",
    "                           [4, 2, 6, 8, 5, 3, 7, 9, 1],\n",
    "                           [7, 1, 3, 9, 2, 4, 8, 5, 6],\n",
    "                           [9, 6, 1, 5, 3, 7, 2, 8, 4],\n",
    "                           [2, 8, 7, 4, 1, 9, 6, 3, 5],\n",
    "                           [3, 4, 5, 2, 8, 6, 1, 7, 9]]) == True"
   ]
  },
  {
   "cell_type": "code",
   "execution_count": 45,
   "metadata": {},
   "outputs": [],
   "source": [
    "assert valid_solution([[5, 3, 4, 6, 7, 8, 9, 1, 2], \n",
    "                           [6, 7, 2, 1, 9, 0, 3, 4, 9],\n",
    "                           [1, 0, 0, 3, 4, 2, 5, 6, 0],\n",
    "                           [8, 5, 9, 7, 6, 1, 0, 2, 0],\n",
    "                           [4, 2, 6, 8, 5, 3, 7, 9, 1],\n",
    "                           [7, 1, 3, 9, 2, 4, 8, 5, 6],\n",
    "                           [9, 0, 1, 5, 3, 7, 2, 1, 4],\n",
    "                           [2, 8, 7, 4, 1, 9, 6, 3, 5],\n",
    "                           [3, 0, 0, 4, 8, 1, 1, 7, 9]]) == False"
   ]
  },
  {
   "cell_type": "code",
   "execution_count": 46,
   "metadata": {},
   "outputs": [
    {
     "ename": "AssertionError",
     "evalue": "",
     "output_type": "error",
     "traceback": [
      "\u001b[1;31m---------------------------------------------------------------------------\u001b[0m",
      "\u001b[1;31mAssertionError\u001b[0m                            Traceback (most recent call last)",
      "\u001b[1;32m<ipython-input-46-b11a3746e259>\u001b[0m in \u001b[0;36m<module>\u001b[1;34m\u001b[0m\n\u001b[1;32m----> 1\u001b[1;33m assert valid_solution([[5, 3, 4, 6, 7, 8, 9, 1, 2], \n\u001b[0m\u001b[0;32m      2\u001b[0m                            \u001b[1;33m[\u001b[0m\u001b[1;36m6\u001b[0m\u001b[1;33m,\u001b[0m \u001b[1;36m7\u001b[0m\u001b[1;33m,\u001b[0m \u001b[1;36m2\u001b[0m\u001b[1;33m,\u001b[0m \u001b[1;36m1\u001b[0m\u001b[1;33m,\u001b[0m \u001b[1;36m9\u001b[0m\u001b[1;33m,\u001b[0m \u001b[1;36m0\u001b[0m\u001b[1;33m,\u001b[0m \u001b[1;36m3\u001b[0m\u001b[1;33m,\u001b[0m \u001b[1;36m4\u001b[0m\u001b[1;33m,\u001b[0m \u001b[1;36m9\u001b[0m\u001b[1;33m]\u001b[0m\u001b[1;33m,\u001b[0m\u001b[1;33m\u001b[0m\u001b[1;33m\u001b[0m\u001b[0m\n\u001b[0;32m      3\u001b[0m                            \u001b[1;33m[\u001b[0m\u001b[1;36m1\u001b[0m\u001b[1;33m,\u001b[0m \u001b[1;36m0\u001b[0m\u001b[1;33m,\u001b[0m \u001b[1;36m0\u001b[0m\u001b[1;33m,\u001b[0m \u001b[1;36m3\u001b[0m\u001b[1;33m,\u001b[0m \u001b[1;36m4\u001b[0m\u001b[1;33m,\u001b[0m \u001b[1;36m2\u001b[0m\u001b[1;33m,\u001b[0m \u001b[1;36m5\u001b[0m\u001b[1;33m,\u001b[0m \u001b[1;36m6\u001b[0m\u001b[1;33m,\u001b[0m \u001b[1;36m0\u001b[0m\u001b[1;33m]\u001b[0m\u001b[1;33m,\u001b[0m\u001b[1;33m\u001b[0m\u001b[1;33m\u001b[0m\u001b[0m\n\u001b[0;32m      4\u001b[0m                            \u001b[1;33m[\u001b[0m\u001b[1;36m8\u001b[0m\u001b[1;33m,\u001b[0m \u001b[1;36m5\u001b[0m\u001b[1;33m,\u001b[0m \u001b[1;36m9\u001b[0m\u001b[1;33m,\u001b[0m \u001b[1;36m7\u001b[0m\u001b[1;33m,\u001b[0m \u001b[1;36m6\u001b[0m\u001b[1;33m,\u001b[0m \u001b[1;36m1\u001b[0m\u001b[1;33m,\u001b[0m \u001b[1;36m0\u001b[0m\u001b[1;33m,\u001b[0m \u001b[1;36m2\u001b[0m\u001b[1;33m,\u001b[0m \u001b[1;36m0\u001b[0m\u001b[1;33m]\u001b[0m\u001b[1;33m,\u001b[0m\u001b[1;33m\u001b[0m\u001b[1;33m\u001b[0m\u001b[0m\n\u001b[0;32m      5\u001b[0m                            \u001b[1;33m[\u001b[0m\u001b[1;36m4\u001b[0m\u001b[1;33m,\u001b[0m \u001b[1;36m2\u001b[0m\u001b[1;33m,\u001b[0m \u001b[1;36m6\u001b[0m\u001b[1;33m,\u001b[0m \u001b[1;36m8\u001b[0m\u001b[1;33m,\u001b[0m \u001b[1;36m5\u001b[0m\u001b[1;33m,\u001b[0m \u001b[1;36m3\u001b[0m\u001b[1;33m,\u001b[0m \u001b[1;36m7\u001b[0m\u001b[1;33m,\u001b[0m \u001b[1;36m9\u001b[0m\u001b[1;33m,\u001b[0m \u001b[1;36m1\u001b[0m\u001b[1;33m]\u001b[0m\u001b[1;33m,\u001b[0m\u001b[1;33m\u001b[0m\u001b[1;33m\u001b[0m\u001b[0m\n",
      "\u001b[1;31mAssertionError\u001b[0m: "
     ]
    }
   ],
   "source": [
    "assert valid_solution([[5, 3, 4, 6, 7, 8, 9, 1, 2], \n",
    "                           [6, 7, 2, 1, 9, 0, 3, 4, 9],\n",
    "                           [1, 0, 0, 3, 4, 2, 5, 6, 0],\n",
    "                           [8, 5, 9, 7, 6, 1, 0, 2, 0],\n",
    "                           [4, 2, 6, 8, 5, 3, 7, 9, 1],\n",
    "                           [7, 1, 3, 9, 2, 4, 8, 5, 6],\n",
    "                           [9, 0, 1, 5, 3, 7, 2, 1, 4],\n",
    "                           [2, 8, 7, 4, 1, 9, 6, 3, 5],\n",
    "                           [3, 0, 0, 4, 8, 1, 1, 7, 9]]) == True"
   ]
  },
  {
   "cell_type": "code",
   "execution_count": 32,
   "metadata": {},
   "outputs": [
    {
     "name": "stdout",
     "output_type": "stream",
     "text": [
      "s\n"
     ]
    }
   ],
   "source": [
    "test_valid()"
   ]
  },
  {
   "cell_type": "code",
   "execution_count": 37,
   "metadata": {},
   "outputs": [],
   "source": [
    "test_invalid_rows()"
   ]
  },
  {
   "cell_type": "code",
   "execution_count": null,
   "metadata": {},
   "outputs": [],
   "source": []
  },
  {
   "cell_type": "code",
   "execution_count": null,
   "metadata": {},
   "outputs": [],
   "source": []
  }
 ],
 "metadata": {
  "kernelspec": {
   "display_name": "Python 3",
   "language": "python",
   "name": "python3"
  },
  "language_info": {
   "codemirror_mode": {
    "name": "ipython",
    "version": 3
   },
   "file_extension": ".py",
   "mimetype": "text/x-python",
   "name": "python",
   "nbconvert_exporter": "python",
   "pygments_lexer": "ipython3",
   "version": "3.8.5"
  }
 },
 "nbformat": 4,
 "nbformat_minor": 4
}
